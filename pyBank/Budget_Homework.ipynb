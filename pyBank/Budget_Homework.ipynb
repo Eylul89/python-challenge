{
 "cells": [
  {
   "cell_type": "code",
   "execution_count": 1,
   "metadata": {},
   "outputs": [],
   "source": [
    "import os\n",
    "import csv"
   ]
  },
  {
   "cell_type": "code",
   "execution_count": 46,
   "metadata": {},
   "outputs": [],
   "source": [
    "csvpath = 'budget_data.csv'"
   ]
  },
  {
   "cell_type": "code",
   "execution_count": 47,
   "metadata": {},
   "outputs": [],
   "source": [
    "#  * The total number of months included in the dataset\n",
    "\n",
    "#  * The net total amount of \"Profit/Losses\" over the entire period\n",
    "\n",
    "#  * The average of the changes in \"Profit/Losses\" over the entire period\n",
    "\n",
    "#  * The greatest increase in profits (date and amount) over the entire period\n",
    "\n",
    "#  * The greatest decrease in losses (date and amount) over the entire period\n"
   ]
  },
  {
   "cell_type": "code",
   "execution_count": 48,
   "metadata": {},
   "outputs": [],
   "source": [
    "Count_Month = 0\n",
    "count_profit_losses = 0\n",
    "\n",
    "with open(csvpath, newline=\"\") as csvfile:\n",
    "    csvreader = csv.reader(csvfile, delimiter=\",\")\n",
    "    \n",
    "    next(csvreader)\n",
    "    \n",
    "    for row in csvreader:\n",
    "        \n",
    "        #calculate the totals\n",
    "        \n",
    "        Count_Month = Count_Month + 1\n",
    "        count_profit_losses = count_profit_losses + int(row[1])"
   ]
  },
  {
   "cell_type": "code",
   "execution_count": 49,
   "metadata": {},
   "outputs": [
    {
     "name": "stdout",
     "output_type": "stream",
     "text": [
      "# of month:  86\n",
      "Total profit/losses:  38382578\n"
     ]
    }
   ],
   "source": [
    "print(\"# of month: \", Count_Month)\n",
    "print(\"Total profit/losses: \", count_profit_losses)"
   ]
  },
  {
   "cell_type": "code",
   "execution_count": 50,
   "metadata": {},
   "outputs": [
    {
     "name": "stdout",
     "output_type": "stream",
     "text": [
      "Total profit/losses:  446309.0\n"
     ]
    }
   ],
   "source": [
    "# Change Calculation\n",
    "\n",
    "Average_profit = count_profit_losses / Count_Month\n",
    "print(\"Total profit/losses: \", round(Average_profit,0))"
   ]
  },
  {
   "cell_type": "code",
   "execution_count": 51,
   "metadata": {},
   "outputs": [
    {
     "name": "stdout",
     "output_type": "stream",
     "text": [
      "Max profit change date and amount  Feb-2012 1926159\n",
      "Min profit change date and amount  Sep-2013 -2196167\n"
     ]
    }
   ],
   "source": [
    "prev_Revenue = 0\n",
    "max_change_date = 0\n",
    "min_change_date = 0\n",
    "\n",
    "max_change = 0\n",
    "min_change = 0\n",
    "\n",
    "with open(csvpath, newline=\"\") as csvfile:\n",
    "    csvreader = csv.reader(csvfile, delimiter=\",\")\n",
    "    \n",
    "    # skip header\n",
    "    next(csvreader)\n",
    "    \n",
    "    # skip first row\n",
    "    firstRow = next(csvreader) \n",
    "    prev_Revenue = int(firstRow[1])\n",
    "    \n",
    "    for row in csvreader:\n",
    "\n",
    "        rev_change = int(row[1]) - prev_Revenue\n",
    "        \n",
    "        prev_Revenue = int(row[1])\n",
    "        \n",
    "        if  rev_change > max_change:\n",
    "            \n",
    "            max_change = rev_change\n",
    "            \n",
    "            max_change_date = row[0]\n",
    "            \n",
    "        if rev_change < min_change:\n",
    "            \n",
    "            min_change = rev_change\n",
    "            \n",
    "            min_change_date = row[0]\n",
    "            \n",
    "            \n",
    "print(\"Max profit change date and amount \", max_change_date, max_change)\n",
    "print(\"Min profit change date and amount \", min_change_date, min_change)"
   ]
  },
  {
   "cell_type": "code",
   "execution_count": null,
   "metadata": {},
   "outputs": [],
   "source": []
  },
  {
   "cell_type": "code",
   "execution_count": null,
   "metadata": {},
   "outputs": [],
   "source": []
  }
 ],
 "metadata": {
  "kernelspec": {
   "display_name": "Python 3",
   "language": "python",
   "name": "python3"
  },
  "language_info": {
   "codemirror_mode": {
    "name": "ipython",
    "version": 3
   },
   "file_extension": ".py",
   "mimetype": "text/x-python",
   "name": "python",
   "nbconvert_exporter": "python",
   "pygments_lexer": "ipython3",
   "version": "3.7.4"
  }
 },
 "nbformat": 4,
 "nbformat_minor": 2
}
