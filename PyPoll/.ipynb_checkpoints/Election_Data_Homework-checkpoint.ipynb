{
 "cells": [
  {
   "cell_type": "code",
   "execution_count": 23,
   "metadata": {},
   "outputs": [],
   "source": [
    "import os\n",
    "import csv"
   ]
  },
  {
   "cell_type": "code",
   "execution_count": 33,
   "metadata": {},
   "outputs": [],
   "source": [
    "csvpath = './Resources/election_data-Copy1.csv'"
   ]
  },
  {
   "cell_type": "code",
   "execution_count": 34,
   "metadata": {},
   "outputs": [],
   "source": [
    "#  * The total number of votes cast\n",
    "\n",
    "#  * A complete list of candidates who received votes\n",
    "\n",
    "#  * The percentage of votes each candidate won\n",
    "\n",
    "#  * The total number of votes each candidate won\n",
    "\n",
    "#  * The winner of the election based on popular vote.\n",
    "\n"
   ]
  },
  {
   "cell_type": "code",
   "execution_count": 37,
   "metadata": {},
   "outputs": [],
   "source": [
    "count_voter = 0\n",
    "\n",
    "with open(csvpath, newline=\"\") as csvfile:\n",
    "    csvreader = csv.reader(csvfile, delimiter=\",\")\n",
    "    \n",
    "    next(csvreader)\n",
    "    \n",
    "    for row in csvreader:\n",
    "        \n",
    "        # calculate the total # of votes\n",
    "        \n",
    "        count_voter = count_voter + 1"
   ]
  },
  {
   "cell_type": "code",
   "execution_count": 38,
   "metadata": {},
   "outputs": [
    {
     "name": "stdout",
     "output_type": "stream",
     "text": [
      "# of votes:  8\n"
     ]
    }
   ],
   "source": [
    "print(\"# of votes: \" , count_voter)"
   ]
  },
  {
   "cell_type": "code",
   "execution_count": 45,
   "metadata": {},
   "outputs": [],
   "source": [
    "count_voter = 0\n",
    "\n",
    "candidate_list = []\n",
    "\n",
    "with open(csvpath, newline=\"\") as csvfile:\n",
    "    csvreader = csv.reader(csvfile, delimiter=\",\")\n",
    "    \n",
    "    next(csvreader)\n",
    "   \n",
    "    for rows in csvreader:\n",
    "        count_voter = count_voter + 1\n",
    "        candidate_names = rows[2]\n",
    "        candidate_list.append(candidate_names)\n",
    "    #print(count_voter) would show how many votes there were total\n",
    "    unique_names = list(set(candidate_list))"
   ]
  },
  {
   "cell_type": "code",
   "execution_count": 70,
   "metadata": {},
   "outputs": [
    {
     "name": "stdout",
     "output_type": "stream",
     "text": [
      "Voter names:  ['Li', 'Correy', 'Khan']\n"
     ]
    }
   ],
   "source": [
    "print(\"Voter names: \" , unique_names)"
   ]
  },
  {
   "cell_type": "code",
   "execution_count": 69,
   "metadata": {},
   "outputs": [
    {
     "name": "stdout",
     "output_type": "stream",
     "text": [
      "Total vote count:  8\n"
     ]
    }
   ],
   "source": [
    "print(\"Total vote count: \", count_voter)"
   ]
  },
  {
   "cell_type": "code",
   "execution_count": 52,
   "metadata": {},
   "outputs": [],
   "source": [
    "vote_counts = []\n",
    "\n",
    "for name in unique_names:\n",
    "\n",
    "    vote_counts.append(0)\n",
    "\n",
    "\n",
    "for candidate in candidate_list:\n",
    "    \n",
    "    index = 0\n",
    "    \n",
    "    for name in unique_names:\n",
    "    \n",
    "        if candidate == name:\n",
    "            \n",
    "            vote_counts[index] = vote_counts[index] + 1\n",
    "    \n",
    "        index = index + 1\n",
    "        "
   ]
  },
  {
   "cell_type": "code",
   "execution_count": 68,
   "metadata": {},
   "outputs": [
    {
     "name": "stdout",
     "output_type": "stream",
     "text": [
      "voters percentages:  [0.125, 0.25, 0.625]\n"
     ]
    }
   ],
   "source": [
    "Percentages = []\n",
    "\n",
    "for count in vote_counts:\n",
    "    \n",
    "    x = count / count_voter\n",
    "    \n",
    "    Percentages.append(x)\n",
    "            \n",
    "print(\"voters percentages: \", Percentages)\n",
    "        "
   ]
  },
  {
   "cell_type": "code",
   "execution_count": 67,
   "metadata": {},
   "outputs": [
    {
     "name": "stdout",
     "output_type": "stream",
     "text": [
      "count of voters:  [1, 2, 5]\n"
     ]
    }
   ],
   "source": [
    "print(\"count of voters: \" , vote_counts)"
   ]
  },
  {
   "cell_type": "code",
   "execution_count": 84,
   "metadata": {},
   "outputs": [
    {
     "name": "stdout",
     "output_type": "stream",
     "text": [
      "And the winner is Khan\n"
     ]
    }
   ],
   "source": [
    "max_vote = 0\n",
    "\n",
    "index2 = 0\n",
    "\n",
    "max_name = \"\"\n",
    "\n",
    "for count in vote_counts:\n",
    "    \n",
    "    if count > max_vote:\n",
    "        \n",
    "        max_vote = count\n",
    "        \n",
    "        max_name = unique_names[index2]\n",
    "        \n",
    "    index2 = index2 + 1\n",
    "    \n",
    "print (\"And the winner is\" , max_name)"
   ]
  },
  {
   "cell_type": "code",
   "execution_count": null,
   "metadata": {},
   "outputs": [],
   "source": []
  }
 ],
 "metadata": {
  "kernelspec": {
   "display_name": "Python 3",
   "language": "python",
   "name": "python3"
  },
  "language_info": {
   "codemirror_mode": {
    "name": "ipython",
    "version": 3
   },
   "file_extension": ".py",
   "mimetype": "text/x-python",
   "name": "python",
   "nbconvert_exporter": "python",
   "pygments_lexer": "ipython3",
   "version": "3.7.4"
  }
 },
 "nbformat": 4,
 "nbformat_minor": 2
}
