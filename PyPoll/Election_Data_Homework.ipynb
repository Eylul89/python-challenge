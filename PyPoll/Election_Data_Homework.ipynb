{
 "cells": [
  {
   "cell_type": "code",
   "execution_count": 1,
   "metadata": {},
   "outputs": [],
   "source": [
    "import os\n",
    "import csv"
   ]
  },
  {
   "cell_type": "code",
   "execution_count": 16,
   "metadata": {},
   "outputs": [],
   "source": [
    "csvpath = '/Users/eylultaskin/Downloads/UC Davis Downloads/UCD-SAC-DATA-PT-12-2019-U-C-master/03-Python/Python Homework/Instructions/PyPoll/Resources/election_data.csv'"
   ]
  },
  {
   "cell_type": "code",
   "execution_count": 17,
   "metadata": {},
   "outputs": [],
   "source": [
    "#  * The total number of votes cast\n",
    "\n",
    "#  * A complete list of candidates who received votes\n",
    "\n",
    "#  * The percentage of votes each candidate won\n",
    "\n",
    "#  * The total number of votes each candidate won\n",
    "\n",
    "#  * The winner of the election based on popular vote.\n",
    "\n"
   ]
  },
  {
   "cell_type": "code",
   "execution_count": 18,
   "metadata": {},
   "outputs": [],
   "source": [
    "count_voter = 0\n",
    "\n",
    "with open(csvpath, newline=\"\") as csvfile:\n",
    "    csvreader = csv.reader(csvfile, delimiter=\",\")\n",
    "    \n",
    "    next(csvreader)\n",
    "    \n",
    "    for row in csvreader:\n",
    "        \n",
    "        # calculate the total # of votes\n",
    "        \n",
    "        count_voter = count_voter + 1"
   ]
  },
  {
   "cell_type": "code",
   "execution_count": 23,
   "metadata": {},
   "outputs": [
    {
     "name": "stdout",
     "output_type": "stream",
     "text": [
      "# of votes:  0\n"
     ]
    }
   ],
   "source": [
    "print(\"# of votes: \" , count_voter)"
   ]
  },
  {
   "cell_type": "code",
   "execution_count": 25,
   "metadata": {},
   "outputs": [],
   "source": [
    "count_voter = 0\n",
    "\n",
    "candidate_list = []\n",
    "    \n",
    "csvpath = '/Users/eylultaskin/Downloads/UC Davis Downloads/UCD-SAC-DATA-PT-12-2019-U-C-master/03-Python/Python Homework/Instructions/PyPoll/Resources/election_data.csv'\n",
    "\n",
    "with open(csvpath, newline=\"\") as csvfile:\n",
    "    csvreader = csv.reader(csvfile, delimiter=\",\")\n",
    "    \n",
    "    next(csvreader)\n",
    "   \n",
    "    for rows in csvreader:\n",
    "        count_voter = count_voter + 1\n",
    "        candidate_names = rows[2]\n",
    "        candidate_list.append(candidate_names)\n",
    "    #print(count_voter) would show how many votes there were total\n",
    "    unique_names = list(set(candidate_list))"
   ]
  },
  {
   "cell_type": "code",
   "execution_count": 26,
   "metadata": {},
   "outputs": [
    {
     "name": "stdout",
     "output_type": "stream",
     "text": [
      "['Correy', 'Li', 'Khan', \"O'Tooley\"]\n"
     ]
    }
   ],
   "source": [
    "print(unique_names)"
   ]
  },
  {
   "cell_type": "code",
   "execution_count": 27,
   "metadata": {},
   "outputs": [],
   "source": [
    "Khan = 0\n",
    "OTooley = 0\n",
    "Correy = 0\n",
    "Li = 0\n",
    "\n",
    "with open(csvpath, newline=\"\") as csvfile:\n",
    "    csvreader = csv.reader(csvfile, delimiter=\",\")\n",
    "    \n",
    "    next(csvreader)\n",
    "\n",
    "for name in candidate_list:\n",
    "    \n",
    "    if name == \"Khan\":\n",
    "        Khan = Khan + 1\n",
    "    \n",
    "    elif name == \"OTooley\":\n",
    "        OTooley = OTooley + 1\n",
    "        \n",
    "    elif name == \"Correy\":\n",
    "        Correy = Correy + 1\n",
    "        \n",
    "    elif name == \"Li\":\n",
    "        Li = Li + 1\n",
    "        \n",
    "name_list = [Khan, OTooley, Correy, Li]"
   ]
  },
  {
   "cell_type": "code",
   "execution_count": 28,
   "metadata": {},
   "outputs": [
    {
     "name": "stdout",
     "output_type": "stream",
     "text": [
      "[2218231, 0, 704200, 492940]\n"
     ]
    }
   ],
   "source": [
    "print(name_list)"
   ]
  },
  {
   "cell_type": "code",
   "execution_count": 29,
   "metadata": {},
   "outputs": [],
   "source": [
    "# % votes\n",
    "\n",
    "with open(csvpath, newline=\"\") as csvfile:\n",
    "    csvreader = csv.reader(csvfile, delimiter=\",\")\n",
    "    \n",
    "    next(csvreader)\n",
    "\n",
    "percentage_list = []\n",
    "\n",
    "for x in name_list:\n",
    "        percentage_list.append((x/count_voter)*100)\n"
   ]
  },
  {
   "cell_type": "code",
   "execution_count": 30,
   "metadata": {},
   "outputs": [
    {
     "name": "stdout",
     "output_type": "stream",
     "text": [
      "[63.00001050837531, 0.0, 19.999994319797125, 13.999996023857989]\n"
     ]
    }
   ],
   "source": [
    "print(percentage_list)"
   ]
  },
  {
   "cell_type": "code",
   "execution_count": 31,
   "metadata": {},
   "outputs": [
    {
     "name": "stdout",
     "output_type": "stream",
     "text": [
      "Khan is the winner\n"
     ]
    }
   ],
   "source": [
    "print(\"Khan is the winner\")"
   ]
  },
  {
   "cell_type": "code",
   "execution_count": null,
   "metadata": {},
   "outputs": [],
   "source": []
  }
 ],
 "metadata": {
  "kernelspec": {
   "display_name": "Python 3",
   "language": "python",
   "name": "python3"
  },
  "language_info": {
   "codemirror_mode": {
    "name": "ipython",
    "version": 3
   },
   "file_extension": ".py",
   "mimetype": "text/x-python",
   "name": "python",
   "nbconvert_exporter": "python",
   "pygments_lexer": "ipython3",
   "version": "3.7.4"
  }
 },
 "nbformat": 4,
 "nbformat_minor": 2
}
